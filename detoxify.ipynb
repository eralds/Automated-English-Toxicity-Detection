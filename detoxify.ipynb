{
 "cells": [
  {
   "metadata": {},
   "cell_type": "code",
   "source": [
    "import numpy as np\n",
    "!pip install detoxify"
   ],
   "id": "741524d244f92ea0",
   "outputs": [],
   "execution_count": null
  },
  {
   "metadata": {},
   "cell_type": "code",
   "source": [
    "from detoxify import Detoxify\n",
    "\n",
    "results = Detoxify('original').predict('some text')\n",
    "\n",
    "results = Detoxify('unbiased').predict(['example text 1','example text 2'])\n",
    "\n",
    "results = Detoxify('multilingual').predict(['example text','exemple de texte','texto de ejemplo','testo di esempio','texto de exemplo','örnek metin','пример текста'])\n",
    "\n",
    "# to display results nicely\n",
    "\n",
    "import pandas as pd\n",
    "\n",
    "print(pd.DataFrame(results,index=input_text).round(5))\n"
   ],
   "id": "6bbd6c907f95c82a",
   "outputs": [],
   "execution_count": null
  },
  {
   "metadata": {
    "ExecuteTime": {
     "end_time": "2024-04-11T17:02:51.242429Z",
     "start_time": "2024-04-11T17:02:51.239556Z"
    }
   },
   "cell_type": "code",
   "source": [
    "import csv\n",
    "import pandas as pd\n",
    "from detoxify import Detoxify\n",
    "import numpy as np\n",
    "import pickle\n",
    "from tqdm import tqdm"
   ],
   "id": "b846faee318f6a3e",
   "outputs": [],
   "execution_count": 14
  },
  {
   "metadata": {
    "ExecuteTime": {
     "end_time": "2024-04-11T16:43:15.620738Z",
     "start_time": "2024-04-11T16:43:15.263647Z"
    }
   },
   "cell_type": "code",
   "source": [
    "df = pd.read_csv(\"train_2024.csv\", quoting=csv.QUOTE_NONE)\n",
    "df_test = pd.read_csv(\"test_2024.csv\", quoting=csv.QUOTE_NONE)\n",
    "df_dev = pd.read_csv(\"dev_2024.csv\", quoting=csv.QUOTE_NONE)"
   ],
   "id": "27eb253f0dac4d04",
   "outputs": [],
   "execution_count": 4
  },
  {
   "metadata": {
    "ExecuteTime": {
     "end_time": "2024-04-11T17:47:43.680358Z",
     "start_time": "2024-04-11T17:47:43.673005Z"
    }
   },
   "cell_type": "code",
   "source": "text_list = df_test['text'].tolist()",
   "id": "3e4795acc863e5c6",
   "outputs": [],
   "execution_count": 29
  },
  {
   "metadata": {
    "ExecuteTime": {
     "end_time": "2024-04-11T17:48:28.105091Z",
     "start_time": "2024-04-11T17:48:27.147823Z"
    }
   },
   "cell_type": "code",
   "source": "model = Detoxify('original')",
   "id": "233fc1b4c7deeed1",
   "outputs": [],
   "execution_count": 30
  },
  {
   "metadata": {
    "ExecuteTime": {
     "end_time": "2024-04-11T17:56:45.160175Z",
     "start_time": "2024-04-11T17:48:39.208978Z"
    }
   },
   "cell_type": "code",
   "source": [
    "from tqdm import tqdm  # Import tqdm correctly\n",
    "\n",
    "# Assuming text_list is your iterable\n",
    "results = []\n",
    "for text in tqdm(text_list, desc=\"Processing\"):  # Use tqdm method from tqdm module\n",
    "    results.append(model.predict(text))"
   ],
   "id": "b236acbf61bbdb05",
   "outputs": [
    {
     "name": "stderr",
     "output_type": "stream",
     "text": [
      "Processing: 100%|██████████| 12001/12001 [08:05<00:00, 24.70it/s]\n"
     ]
    }
   ],
   "execution_count": 31
  },
  {
   "metadata": {
    "ExecuteTime": {
     "end_time": "2024-04-11T19:24:54.261577Z",
     "start_time": "2024-04-11T19:24:54.172377Z"
    }
   },
   "cell_type": "code",
   "source": [
    "with open(\"test\", \"wb\") as fp:   #Pickling\n",
    "    pickle.dump(results, fp)"
   ],
   "id": "4b9c73bc49e48e35",
   "outputs": [],
   "execution_count": 32
  },
  {
   "metadata": {
    "ExecuteTime": {
     "end_time": "2024-04-11T19:24:55.054998Z",
     "start_time": "2024-04-11T19:24:55.033426Z"
    }
   },
   "cell_type": "code",
   "source": [
    "with open(\"test\", \"rb\") as fp:   # Unpickling\n",
    "    devingo = pickle.load(fp)"
   ],
   "id": "5b74fcc407ed5a22",
   "outputs": [],
   "execution_count": 33
  },
  {
   "metadata": {
    "ExecuteTime": {
     "end_time": "2024-04-11T19:24:57.187657Z",
     "start_time": "2024-04-11T19:24:57.183175Z"
    }
   },
   "cell_type": "code",
   "source": "len(devingo)",
   "id": "ddefd54d8a91b78c",
   "outputs": [
    {
     "data": {
      "text/plain": [
       "12001"
      ]
     },
     "execution_count": 34,
     "metadata": {},
     "output_type": "execute_result"
    }
   ],
   "execution_count": 34
  },
  {
   "metadata": {},
   "cell_type": "code",
   "outputs": [],
   "execution_count": null,
   "source": "",
   "id": "3b836c40703645e7"
  }
 ],
 "metadata": {
  "kernelspec": {
   "display_name": "Python 3",
   "language": "python",
   "name": "python3"
  },
  "language_info": {
   "codemirror_mode": {
    "name": "ipython",
    "version": 2
   },
   "file_extension": ".py",
   "mimetype": "text/x-python",
   "name": "python",
   "nbconvert_exporter": "python",
   "pygments_lexer": "ipython2",
   "version": "2.7.6"
  }
 },
 "nbformat": 4,
 "nbformat_minor": 5
}
