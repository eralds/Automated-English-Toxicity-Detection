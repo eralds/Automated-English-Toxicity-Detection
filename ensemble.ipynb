{
 "cells": [
  {
   "metadata": {
    "ExecuteTime": {
     "end_time": "2024-04-11T20:28:02.382572Z",
     "start_time": "2024-04-11T20:28:02.378685Z"
    }
   },
   "cell_type": "code",
   "source": [
    "import csv\n",
    "import pandas as pd\n",
    "from detoxify import Detoxify\n",
    "import numpy as np\n",
    "import pickle\n",
    "from tqdm import tqdm\n",
    "from sklearn.linear_model import LogisticRegression\n",
    "from sklearn.metrics import f1_score\n",
    "from sklearn import svm\n",
    "from sklearn import linear_model\n",
    "from sklearn.linear_model import RidgeClassifier\n",
    "from sklearn.decomposition import PCA\n",
    "from sklearn.ensemble import RandomForestClassifier, VotingClassifier\n",
    "from sklearn.ensemble import HistGradientBoostingClassifier\n",
    "from sklearn.ensemble import AdaBoostClassifier\n",
    "from sklearn.naive_bayes import GaussianNB\n",
    "from sklearn.linear_model import SGDClassifier"
   ],
   "id": "b846faee318f6a3e",
   "outputs": [],
   "execution_count": 92
  },
  {
   "metadata": {
    "ExecuteTime": {
     "end_time": "2024-04-11T19:49:27.867573Z",
     "start_time": "2024-04-11T19:49:27.507851Z"
    }
   },
   "cell_type": "code",
   "source": [
    "df_train = pd.read_csv(\"train_2024.csv\", quoting=csv.QUOTE_NONE)\n",
    "df_test = pd.read_csv(\"test_2024.csv\", quoting=csv.QUOTE_NONE)\n",
    "df_dev = pd.read_csv(\"dev_2024.csv\", quoting=csv.QUOTE_NONE)"
   ],
   "id": "1230f104d3da66ff",
   "outputs": [],
   "execution_count": 2
  },
  {
   "metadata": {
    "ExecuteTime": {
     "end_time": "2024-04-11T19:49:29.446189Z",
     "start_time": "2024-04-11T19:49:29.245841Z"
    }
   },
   "cell_type": "code",
   "source": [
    "with open(\"train\", \"rb\") as fp:\n",
    "    train1 = pickle.load(fp)\n",
    "    \n",
    "with open(\"train_son54bin\", \"rb\") as fp:  \n",
    "    train2 = pickle.load(fp)\n",
    "    \n",
    "with open(\"dev\", \"rb\") as fp:   \n",
    "    dev = pickle.load(fp)\n",
    "    \n",
    "with open(\"test\", \"rb\") as fp:   \n",
    "    test = pickle.load(fp)"
   ],
   "id": "923e9725817ac3eb",
   "outputs": [],
   "execution_count": 3
  },
  {
   "metadata": {
    "ExecuteTime": {
     "end_time": "2024-04-11T19:49:31.118878Z",
     "start_time": "2024-04-11T19:49:31.115075Z"
    }
   },
   "cell_type": "code",
   "source": "train = train1 + train2",
   "id": "d6763a62be472485",
   "outputs": [],
   "execution_count": 4
  },
  {
   "metadata": {
    "ExecuteTime": {
     "end_time": "2024-04-11T19:49:32.057395Z",
     "start_time": "2024-04-11T19:49:32.053173Z"
    }
   },
   "cell_type": "code",
   "source": "len(train)",
   "id": "38902d306ac405d3",
   "outputs": [
    {
     "data": {
      "text/plain": [
       "99000"
      ]
     },
     "execution_count": 5,
     "metadata": {},
     "output_type": "execute_result"
    }
   ],
   "execution_count": 5
  },
  {
   "metadata": {
    "ExecuteTime": {
     "end_time": "2024-04-11T19:49:32.842753Z",
     "start_time": "2024-04-11T19:49:32.746650Z"
    }
   },
   "cell_type": "code",
   "source": [
    "N = len(train)\n",
    "train_features = np.empty((N, 6))\n",
    "\n",
    "for i, dictionary in enumerate(train):\n",
    "    train_features[i] = [dictionary['toxicity'], dictionary['severe_toxicity'], dictionary['obscene'], dictionary['threat'], dictionary['insult'], dictionary['identity_attack']]"
   ],
   "id": "4a3cfecaa7e4a0be",
   "outputs": [],
   "execution_count": 6
  },
  {
   "metadata": {
    "ExecuteTime": {
     "end_time": "2024-04-11T19:49:33.683059Z",
     "start_time": "2024-04-11T19:49:33.667095Z"
    }
   },
   "cell_type": "code",
   "source": [
    "N = len(dev)\n",
    "dev_features = np.empty((N, 6))\n",
    "\n",
    "for i, dictionary in enumerate(dev):\n",
    "    dev_features[i] = [dictionary['toxicity'], dictionary['severe_toxicity'], dictionary['obscene'], dictionary['threat'], dictionary['insult'], dictionary['identity_attack']]"
   ],
   "id": "a9400d53045c05cf",
   "outputs": [],
   "execution_count": 7
  },
  {
   "metadata": {
    "ExecuteTime": {
     "end_time": "2024-04-11T19:49:34.197772Z",
     "start_time": "2024-04-11T19:49:34.182647Z"
    }
   },
   "cell_type": "code",
   "source": [
    "N = len(test)\n",
    "test_features = np.empty((N, 6))\n",
    "\n",
    "for i, dictionary in enumerate(test):\n",
    "    test_features[i] = [dictionary['toxicity'], dictionary['severe_toxicity'], dictionary['obscene'], dictionary['threat'], dictionary['insult'], dictionary['identity_attack']]"
   ],
   "id": "5dc0a26a3c5438fc",
   "outputs": [],
   "execution_count": 8
  },
  {
   "metadata": {},
   "cell_type": "code",
   "source": [
    "train_values = []\n",
    "for t in train:\n",
    "    train_values.append(t['toxicity'])"
   ],
   "id": "1de95c359c0d5759",
   "outputs": [],
   "execution_count": null
  },
  {
   "metadata": {},
   "cell_type": "code",
   "source": [
    "test_values = []\n",
    "for t in test:\n",
    "    test_values.append(t['toxicity'])"
   ],
   "id": "c5832792edc630f9",
   "outputs": [],
   "execution_count": null
  },
  {
   "metadata": {},
   "cell_type": "code",
   "source": [
    "dev_values = []\n",
    "for t in dev:\n",
    "    dev_values.append(t['toxicity'])"
   ],
   "id": "83e779138686b385",
   "outputs": [],
   "execution_count": null
  },
  {
   "metadata": {},
   "cell_type": "code",
   "source": [
    "train_features = np.array(train_values).reshape(-1,1)\n",
    "test_features = np.array(test_values).reshape(-1,1)\n",
    "dev_features = np.array(dev_values).reshape(-1,1)"
   ],
   "id": "3b97de1a8f7010d0",
   "outputs": [],
   "execution_count": null
  },
  {
   "metadata": {
    "ExecuteTime": {
     "end_time": "2024-04-11T19:49:43.006001Z",
     "start_time": "2024-04-11T19:49:43.002316Z"
    }
   },
   "cell_type": "code",
   "source": "dev_features.shape",
   "id": "1cf0d7728bee4ee",
   "outputs": [
    {
     "data": {
      "text/plain": [
       "(11000, 6)"
      ]
     },
     "execution_count": 9,
     "metadata": {},
     "output_type": "execute_result"
    }
   ],
   "execution_count": 9
  },
  {
   "metadata": {
    "ExecuteTime": {
     "end_time": "2024-04-11T19:49:48.177305Z",
     "start_time": "2024-04-11T19:49:48.174383Z"
    }
   },
   "cell_type": "code",
   "source": [
    "train_labels = np.array(df_train['label'])\n",
    "test_labels = np.array(df_test['label']) \n",
    "dev_labels = np.array(df_dev['label']) "
   ],
   "id": "c7ca756b35c89e08",
   "outputs": [],
   "execution_count": 10
  },
  {
   "metadata": {
    "ExecuteTime": {
     "end_time": "2024-04-11T20:07:45.065407Z",
     "start_time": "2024-04-11T20:07:44.955591Z"
    }
   },
   "cell_type": "code",
   "source": [
    "pca = PCA(n_components=2)\n",
    "pca.fit(train_features)"
   ],
   "id": "5ce7bb48cb3a2f9d",
   "outputs": [
    {
     "data": {
      "text/plain": [
       "PCA(n_components=2)"
      ],
      "text/html": [
       "<style>#sk-container-id-8 {color: black;background-color: white;}#sk-container-id-8 pre{padding: 0;}#sk-container-id-8 div.sk-toggleable {background-color: white;}#sk-container-id-8 label.sk-toggleable__label {cursor: pointer;display: block;width: 100%;margin-bottom: 0;padding: 0.3em;box-sizing: border-box;text-align: center;}#sk-container-id-8 label.sk-toggleable__label-arrow:before {content: \"▸\";float: left;margin-right: 0.25em;color: #696969;}#sk-container-id-8 label.sk-toggleable__label-arrow:hover:before {color: black;}#sk-container-id-8 div.sk-estimator:hover label.sk-toggleable__label-arrow:before {color: black;}#sk-container-id-8 div.sk-toggleable__content {max-height: 0;max-width: 0;overflow: hidden;text-align: left;background-color: #f0f8ff;}#sk-container-id-8 div.sk-toggleable__content pre {margin: 0.2em;color: black;border-radius: 0.25em;background-color: #f0f8ff;}#sk-container-id-8 input.sk-toggleable__control:checked~div.sk-toggleable__content {max-height: 200px;max-width: 100%;overflow: auto;}#sk-container-id-8 input.sk-toggleable__control:checked~label.sk-toggleable__label-arrow:before {content: \"▾\";}#sk-container-id-8 div.sk-estimator input.sk-toggleable__control:checked~label.sk-toggleable__label {background-color: #d4ebff;}#sk-container-id-8 div.sk-label input.sk-toggleable__control:checked~label.sk-toggleable__label {background-color: #d4ebff;}#sk-container-id-8 input.sk-hidden--visually {border: 0;clip: rect(1px 1px 1px 1px);clip: rect(1px, 1px, 1px, 1px);height: 1px;margin: -1px;overflow: hidden;padding: 0;position: absolute;width: 1px;}#sk-container-id-8 div.sk-estimator {font-family: monospace;background-color: #f0f8ff;border: 1px dotted black;border-radius: 0.25em;box-sizing: border-box;margin-bottom: 0.5em;}#sk-container-id-8 div.sk-estimator:hover {background-color: #d4ebff;}#sk-container-id-8 div.sk-parallel-item::after {content: \"\";width: 100%;border-bottom: 1px solid gray;flex-grow: 1;}#sk-container-id-8 div.sk-label:hover label.sk-toggleable__label {background-color: #d4ebff;}#sk-container-id-8 div.sk-serial::before {content: \"\";position: absolute;border-left: 1px solid gray;box-sizing: border-box;top: 0;bottom: 0;left: 50%;z-index: 0;}#sk-container-id-8 div.sk-serial {display: flex;flex-direction: column;align-items: center;background-color: white;padding-right: 0.2em;padding-left: 0.2em;position: relative;}#sk-container-id-8 div.sk-item {position: relative;z-index: 1;}#sk-container-id-8 div.sk-parallel {display: flex;align-items: stretch;justify-content: center;background-color: white;position: relative;}#sk-container-id-8 div.sk-item::before, #sk-container-id-8 div.sk-parallel-item::before {content: \"\";position: absolute;border-left: 1px solid gray;box-sizing: border-box;top: 0;bottom: 0;left: 50%;z-index: -1;}#sk-container-id-8 div.sk-parallel-item {display: flex;flex-direction: column;z-index: 1;position: relative;background-color: white;}#sk-container-id-8 div.sk-parallel-item:first-child::after {align-self: flex-end;width: 50%;}#sk-container-id-8 div.sk-parallel-item:last-child::after {align-self: flex-start;width: 50%;}#sk-container-id-8 div.sk-parallel-item:only-child::after {width: 0;}#sk-container-id-8 div.sk-dashed-wrapped {border: 1px dashed gray;margin: 0 0.4em 0.5em 0.4em;box-sizing: border-box;padding-bottom: 0.4em;background-color: white;}#sk-container-id-8 div.sk-label label {font-family: monospace;font-weight: bold;display: inline-block;line-height: 1.2em;}#sk-container-id-8 div.sk-label-container {text-align: center;}#sk-container-id-8 div.sk-container {/* jupyter's `normalize.less` sets `[hidden] { display: none; }` but bootstrap.min.css set `[hidden] { display: none !important; }` so we also need the `!important` here to be able to override the default hidden behavior on the sphinx rendered scikit-learn.org. See: https://github.com/scikit-learn/scikit-learn/issues/21755 */display: inline-block !important;position: relative;}#sk-container-id-8 div.sk-text-repr-fallback {display: none;}</style><div id=\"sk-container-id-8\" class=\"sk-top-container\"><div class=\"sk-text-repr-fallback\"><pre>PCA(n_components=2)</pre><b>In a Jupyter environment, please rerun this cell to show the HTML representation or trust the notebook. <br />On GitHub, the HTML representation is unable to render, please try loading this page with nbviewer.org.</b></div><div class=\"sk-container\" hidden><div class=\"sk-item\"><div class=\"sk-estimator sk-toggleable\"><input class=\"sk-toggleable__control sk-hidden--visually\" id=\"sk-estimator-id-8\" type=\"checkbox\" checked><label for=\"sk-estimator-id-8\" class=\"sk-toggleable__label sk-toggleable__label-arrow\">PCA</label><div class=\"sk-toggleable__content\"><pre>PCA(n_components=2)</pre></div></div></div></div></div>"
      ]
     },
     "execution_count": 64,
     "metadata": {},
     "output_type": "execute_result"
    }
   ],
   "execution_count": 64
  },
  {
   "metadata": {},
   "cell_type": "code",
   "outputs": [],
   "execution_count": 65,
   "source": [
    "train_trans = pca.transform(train_features)\n",
    "dev_trans = pca.transform(dev_features)"
   ],
   "id": "3e6c044c471969ea"
  },
  {
   "metadata": {},
   "cell_type": "code",
   "outputs": [
    {
     "name": "stdout",
     "output_type": "stream",
     "text": [
      "0.8846625766871166\n"
     ]
    }
   ],
   "execution_count": 69,
   "source": [
    "clf1 = LogisticRegression(random_state=1)\n",
    "clf2 = RandomForestClassifier(n_estimators=150, random_state=1)\n",
    "clf3 = AdaBoostClassifier(n_estimators=100, algorithm=\"SAMME\",)\n",
    "eclf1 = VotingClassifier(estimators=[('lr', clf1), ('rf', clf2), ('gnb', clf3)], voting='hard')\n",
    "eclf1.fit(train_features, train_labels)\n",
    "dev_predictions = eclf1.predict(dev_features)\n",
    "f1 = f1_score(dev_labels, dev_predictions)\n",
    "print(f1)"
   ],
   "id": "858c636c4f6eeb79"
  },
  {
   "metadata": {},
   "cell_type": "code",
   "outputs": [],
   "execution_count": null,
   "source": "",
   "id": "724ba8f8f58d1f92"
  }
 ],
 "metadata": {
  "kernelspec": {
   "display_name": "Python 3",
   "language": "python",
   "name": "python3"
  },
  "language_info": {
   "codemirror_mode": {
    "name": "ipython",
    "version": 2
   },
   "file_extension": ".py",
   "mimetype": "text/x-python",
   "name": "python",
   "nbconvert_exporter": "python",
   "pygments_lexer": "ipython2",
   "version": "2.7.6"
  }
 },
 "nbformat": 4,
 "nbformat_minor": 5
}
