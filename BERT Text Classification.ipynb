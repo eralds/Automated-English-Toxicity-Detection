{
 "cells": [
  {
   "cell_type": "markdown",
   "source": [
    "### Toxicity Detection With BERT\n",
    "\n",
    "This code is largely adapted from the [this tutorial](https://github.com/icmpnorequest/Pytorch_BERT_Text_Classification?tab=readme-ov-file) and tailored to our own dataset."
   ],
   "metadata": {
    "collapsed": false
   },
   "id": "9e6dad042636ccbd"
  },
  {
   "cell_type": "code",
   "execution_count": 71,
   "outputs": [],
   "source": [
    "import csv\n",
    "import datetime\n",
    "import numpy as np\n",
    "import pandas as pd\n",
    "import random\n",
    "from sklearn.metrics import f1_score\n",
    "import time\n",
    "import torch\n",
    "import torch.nn as nn\n",
    "import torch.optim as optim\n",
    "import torch.nn.functional as F\n",
    "import transformers\n",
    "from transformers import BertTokenizer"
   ],
   "metadata": {
    "collapsed": false,
    "ExecuteTime": {
     "end_time": "2024-04-18T23:39:09.831782Z",
     "start_time": "2024-04-18T23:39:09.818143Z"
    }
   },
   "id": "47b256984c1c93e3"
  },
  {
   "cell_type": "code",
   "execution_count": 72,
   "outputs": [],
   "source": [
    "device = torch.device('cuda' if torch.cuda.is_available() else 'cpu')"
   ],
   "metadata": {
    "collapsed": false,
    "ExecuteTime": {
     "end_time": "2024-04-18T23:39:10.651526Z",
     "start_time": "2024-04-18T23:39:10.632247Z"
    }
   },
   "id": "d1d6cefed039ff31"
  },
  {
   "cell_type": "markdown",
   "source": [
    "### Reading the data"
   ],
   "metadata": {
    "collapsed": false
   },
   "id": "9b9ffa7e90b4ce7b"
  },
  {
   "cell_type": "code",
   "execution_count": 73,
   "outputs": [],
   "source": [
    "train_filename = \"train_2024.csv\"\n",
    "test_filename = \"dev_2024.csv\"\n",
    "\n",
    "df_train = pd.read_csv(\"train_2024.csv\", quoting=csv.QUOTE_NONE)\n",
    "df_test = pd.read_csv(\"test_2024.csv\", quoting=csv.QUOTE_NONE)\n",
    "df_val= pd.read_csv(\"dev_2024.csv\", quoting=csv.QUOTE_NONE)"
   ],
   "metadata": {
    "collapsed": false,
    "ExecuteTime": {
     "end_time": "2024-04-18T23:39:12.184026Z",
     "start_time": "2024-04-18T23:39:11.605343Z"
    }
   },
   "id": "b83cdd2b26cb1773"
  },
  {
   "cell_type": "code",
   "execution_count": 74,
   "outputs": [
    {
     "data": {
      "text/plain": "   id                                               text  label\n0   0  Except that Desmond played first base last nig...      0\n1   1  What i find funny is the loyalty and blindness...      0\n2   2  Read the article  not just the headline & you ...      0\n3   3  Speaking of a horses backside  is that where y...      1\n4   4  Michael Barone- gee are you dumb.  No other wo...      1",
      "text/html": "<div>\n<style scoped>\n    .dataframe tbody tr th:only-of-type {\n        vertical-align: middle;\n    }\n\n    .dataframe tbody tr th {\n        vertical-align: top;\n    }\n\n    .dataframe thead th {\n        text-align: right;\n    }\n</style>\n<table border=\"1\" class=\"dataframe\">\n  <thead>\n    <tr style=\"text-align: right;\">\n      <th></th>\n      <th>id</th>\n      <th>text</th>\n      <th>label</th>\n    </tr>\n  </thead>\n  <tbody>\n    <tr>\n      <th>0</th>\n      <td>0</td>\n      <td>Except that Desmond played first base last nig...</td>\n      <td>0</td>\n    </tr>\n    <tr>\n      <th>1</th>\n      <td>1</td>\n      <td>What i find funny is the loyalty and blindness...</td>\n      <td>0</td>\n    </tr>\n    <tr>\n      <th>2</th>\n      <td>2</td>\n      <td>Read the article  not just the headline &amp; you ...</td>\n      <td>0</td>\n    </tr>\n    <tr>\n      <th>3</th>\n      <td>3</td>\n      <td>Speaking of a horses backside  is that where y...</td>\n      <td>1</td>\n    </tr>\n    <tr>\n      <th>4</th>\n      <td>4</td>\n      <td>Michael Barone- gee are you dumb.  No other wo...</td>\n      <td>1</td>\n    </tr>\n  </tbody>\n</table>\n</div>"
     },
     "execution_count": 74,
     "metadata": {},
     "output_type": "execute_result"
    }
   ],
   "source": [
    "df_train.head()"
   ],
   "metadata": {
    "collapsed": false,
    "ExecuteTime": {
     "end_time": "2024-04-18T23:39:12.722017Z",
     "start_time": "2024-04-18T23:39:12.710850Z"
    }
   },
   "id": "2c13cd833f33becd"
  },
  {
   "cell_type": "code",
   "execution_count": 75,
   "outputs": [
    {
     "name": "stdout",
     "output_type": "stream",
     "text": [
      "len(train_text) = 99000, len(test_text) = 12001\n"
     ]
    }
   ],
   "source": [
    "train_labels = df_train['label'].tolist()\n",
    "train_text = df_train['text'].tolist()\n",
    "\n",
    "test_labels = df_test['label'].tolist()\n",
    "test_text = df_test['text'].tolist()\n",
    "\n",
    "val_labels =  df_val['label'].tolist()\n",
    "val_text = df_val['text'].tolist()\n",
    "\n",
    "print(\"len(train_text) = {}, len(test_text) = {}\".format(len(train_text), len(test_text)))"
   ],
   "metadata": {
    "collapsed": false,
    "ExecuteTime": {
     "end_time": "2024-04-18T23:39:12.976274Z",
     "start_time": "2024-04-18T23:39:12.967734Z"
    }
   },
   "id": "10f9eb55d3ff12a0"
  },
  {
   "cell_type": "markdown",
   "source": [
    " ### BERT Tokenization"
   ],
   "metadata": {
    "collapsed": false
   },
   "id": "b489fb171a751fc9"
  },
  {
   "cell_type": "code",
   "execution_count": 76,
   "outputs": [],
   "source": [
    "tokenizer = BertTokenizer.from_pretrained('bert-base-uncased', do_lower_case=True)"
   ],
   "metadata": {
    "collapsed": false,
    "ExecuteTime": {
     "end_time": "2024-04-18T23:39:14.410735Z",
     "start_time": "2024-04-18T23:39:14.010512Z"
    }
   },
   "id": "81c17fc8006baf68"
  },
  {
   "cell_type": "code",
   "execution_count": 77,
   "outputs": [
    {
     "name": "stdout",
     "output_type": "stream",
     "text": [
      "Original:  Except that Desmond played first base last night. Tapia was in LF  and Reynolds had a night off.\n",
      "\n",
      "\n",
      "Tokenized:  ['except', 'that', 'desmond', 'played', 'first', 'base', 'last', 'night', '.', 'tap', '##ia', 'was', 'in', 'l', '##f', 'and', 'reynolds', 'had', 'a', 'night', 'off', '.']\n",
      "\n",
      "\n",
      "Token IDs:  [3272, 2008, 16192, 2209, 2034, 2918, 2197, 2305, 1012, 11112, 2401, 2001, 1999, 1048, 2546, 1998, 9579, 2018, 1037, 2305, 2125, 1012]\n"
     ]
    }
   ],
   "source": [
    "# Print the original sentence.\n",
    "print('Original: ', train_text[0])\n",
    "print(\"\\n\")\n",
    "\n",
    "print('Tokenized: ', tokenizer.tokenize(train_text[0]))\n",
    "print(\"\\n\")\n",
    "\n",
    "print('Token IDs: ', tokenizer.convert_tokens_to_ids(tokenizer.tokenize(train_text[0])))\n",
    "print(\"\\n\")"
   ],
   "metadata": {
    "collapsed": false,
    "ExecuteTime": {
     "end_time": "2024-04-18T23:39:14.414744Z",
     "start_time": "2024-04-18T23:39:14.411694Z"
    }
   },
   "id": "971f52c4722ea5a9"
  },
  {
   "cell_type": "markdown",
   "source": [
    "### BERT Input Formatting"
   ],
   "metadata": {
    "collapsed": false
   },
   "id": "b5c032852abc94b2"
  },
  {
   "cell_type": "code",
   "execution_count": 78,
   "outputs": [],
   "source": [
    "import logging\n",
    "\n",
    "logging.getLogger(\"transformers.tokenization_utils\").setLevel(logging.ERROR)\n",
    "\n",
    "def text_to_id(tokenizer, text_list):\n",
    "    \"\"\"\n",
    "    It is a function to transform text to id.\n",
    "    # `encode` will:\n",
    "    #   (1) Tokenize the sentence.\n",
    "    #   (2) Prepend the `[CLS]` token to the start.\n",
    "    #   (3) Append the `[SEP]` token to the end.\n",
    "    #   (4) Map tokens to their IDs.\n",
    "    \"\"\"\n",
    "    ids_list = []\n",
    "    \n",
    "    for item in text_list:\n",
    "        # Sentence to id and add [CLS] and [SEP]\n",
    "        encoded_item = tokenizer.encode(item, add_special_tokens=True)\n",
    "        ids_list.append(encoded_item)\n",
    "    \n",
    "    return ids_list"
   ],
   "metadata": {
    "collapsed": false,
    "ExecuteTime": {
     "end_time": "2024-04-18T23:39:15.426732Z",
     "start_time": "2024-04-18T23:39:15.409275Z"
    }
   },
   "id": "e3b6bb8863974c0f"
  },
  {
   "cell_type": "code",
   "execution_count": 79,
   "outputs": [
    {
     "name": "stderr",
     "output_type": "stream",
     "text": [
      "Token indices sequence length is longer than the specified maximum sequence length for this model (554 > 512). Running this sequence through the model will result in indexing errors\n"
     ]
    },
    {
     "name": "stdout",
     "output_type": "stream",
     "text": [
      "Original: Except that Desmond played first base last night. Tapia was in LF  and Reynolds had a night off.\n",
      "\n",
      "Token IDs: [101, 3272, 2008, 16192, 2209, 2034, 2918, 2197, 2305, 1012, 11112, 2401, 2001, 1999, 1048, 2546, 1998, 9579, 2018, 1037, 2305, 2125, 1012, 102]\n",
      "\n",
      "len(train_text_ids) = 99000\n",
      "\n",
      "len(test_text_ids) = 12001\n"
     ]
    }
   ],
   "source": [
    "train_text_ids = text_to_id(tokenizer, train_text)\n",
    "test_text_ids = text_to_id(tokenizer, test_text)\n",
    "val_text_ids = text_to_id(tokenizer, val_text)\n",
    "\n",
    "\n",
    "# Print sentence 0, now as a list of IDs.\n",
    "print('Original: {}\\n'.format(train_text[0]))\n",
    "print('Token IDs: {}\\n'.format(train_text_ids[0]))\n",
    "print(\"len(train_text_ids) = {}\\n\".format(len(train_text_ids)))\n",
    "print(\"len(test_text_ids) = {}\".format(len(test_text_ids)))"
   ],
   "metadata": {
    "collapsed": false,
    "ExecuteTime": {
     "end_time": "2024-04-18T23:40:05.347770Z",
     "start_time": "2024-04-18T23:39:15.902515Z"
    }
   },
   "id": "429cbe60cd10a605"
  },
  {
   "cell_type": "code",
   "execution_count": 80,
   "outputs": [],
   "source": [
    "def padding_truncating(input_ids_list, max_length):\n",
    "    \"\"\"\n",
    "    It is a function to perform padding and truncating\n",
    "    @param input_ids_list: <List> text_ids\n",
    "    @param max_length: <Integer> the number we wanna the sentence to be padding or truncating\n",
    "    @return: processed input_ids_list\n",
    "    \"\"\"\n",
    "    processed_input_ids_list = []\n",
    "    for item in input_ids_list:\n",
    "        seq_list = []\n",
    "        \n",
    "        if len(item) < max_length:\n",
    "            # Define a seq_list with the length of max_length\n",
    "            seq_list = [0] * (max_length - len(item))\n",
    "            item = item + seq_list\n",
    "        \n",
    "        elif len(item) >= max_length:\n",
    "            item = item[:max_length]\n",
    "            \n",
    "        processed_input_ids_list.append(item)\n",
    "    \n",
    "    return processed_input_ids_list"
   ],
   "metadata": {
    "collapsed": false,
    "ExecuteTime": {
     "end_time": "2024-04-18T23:40:05.351068Z",
     "start_time": "2024-04-18T23:40:05.347905Z"
    }
   },
   "id": "93fcff91bf00b6e2"
  },
  {
   "cell_type": "code",
   "execution_count": 81,
   "outputs": [],
   "source": [
    "train_padding_list = padding_truncating(train_text_ids, max_length=50)\n",
    "test_padding_list = padding_truncating(test_text_ids, max_length=50)\n",
    "val_padding_list = padding_truncating(val_text_ids, max_length=50)"
   ],
   "metadata": {
    "collapsed": false,
    "ExecuteTime": {
     "end_time": "2024-04-18T23:40:05.762275Z",
     "start_time": "2024-04-18T23:40:05.349982Z"
    }
   },
   "id": "652658b75d97ab57"
  },
  {
   "cell_type": "markdown",
   "source": [
    "### Attention Masks"
   ],
   "metadata": {
    "collapsed": false
   },
   "id": "dfb47ffa904412f9"
  },
  {
   "cell_type": "code",
   "execution_count": 83,
   "outputs": [],
   "source": [
    "def get_attention_masks(pad_input_ids_list):\n",
    "    \"\"\"\n",
    "    It is a function to get attention masks:\n",
    "    \n",
    "    - If a token ID is 0, then it's padding, set the mask to 0.\n",
    "    - If a token ID is > 0, then it's a real token, set the mask to 1.\n",
    "    \"\"\"\n",
    "    attention_masks_list = []\n",
    "    \n",
    "    for item in pad_input_ids_list:\n",
    "        \n",
    "        mask_list = []\n",
    "        for subitem in item:\n",
    "            if subitem > 0:\n",
    "                mask_list.append(1)\n",
    "            else:\n",
    "                mask_list.append(0)\n",
    "        attention_masks_list.append(mask_list)\n",
    "    \n",
    "    return attention_masks_list"
   ],
   "metadata": {
    "collapsed": false,
    "ExecuteTime": {
     "end_time": "2024-04-18T23:40:05.769366Z",
     "start_time": "2024-04-18T23:40:05.766691Z"
    }
   },
   "id": "af65bbe2d9debf6d"
  },
  {
   "cell_type": "code",
   "execution_count": 84,
   "outputs": [],
   "source": [
    "train_attention_masks = get_attention_masks(train_padding_list)\n",
    "test_attention_masks = get_attention_masks(test_padding_list)\n",
    "validation_attention_masks = get_attention_masks(val_padding_list)\n",
    "\n",
    "assert len(train_text) == len(train_labels) == len(train_attention_masks) == len(train_padding_list)\n",
    "assert len(test_text) == len(test_labels) == len(test_attention_masks) == len(test_padding_list)"
   ],
   "metadata": {
    "collapsed": false,
    "ExecuteTime": {
     "end_time": "2024-04-18T23:40:06.279193Z",
     "start_time": "2024-04-18T23:40:05.818312Z"
    }
   },
   "id": "c17e26e1448594e6"
  },
  {
   "cell_type": "markdown",
   "source": [
    "### Converting inputs and labels into tensors"
   ],
   "metadata": {
    "collapsed": false
   },
   "id": "f419955f95255e1e"
  },
  {
   "cell_type": "code",
   "execution_count": 85,
   "outputs": [],
   "source": [
    "train_inputs = torch.tensor(train_padding_list)\n",
    "validation_inputs = torch.tensor(val_padding_list)\n",
    "test_inputs = torch.tensor(test_padding_list)\n",
    "\n",
    "train_labels = torch.tensor(train_labels)\n",
    "validation_labels = torch.tensor(val_labels)\n",
    "\n",
    "train_masks = torch.tensor(train_attention_masks)\n",
    "validation_masks = torch.tensor(validation_attention_masks)\n",
    "test_masks = torch.tensor(test_attention_masks)"
   ],
   "metadata": {
    "collapsed": false,
    "ExecuteTime": {
     "end_time": "2024-04-18T23:40:10.792049Z",
     "start_time": "2024-04-18T23:40:10.789724Z"
    }
   },
   "id": "62285c3b59d3f551"
  },
  {
   "cell_type": "markdown",
   "source": [
    "### Creating dataloaders"
   ],
   "metadata": {
    "collapsed": false
   },
   "id": "a088183e7b7a0bd2"
  },
  {
   "cell_type": "code",
   "execution_count": null,
   "outputs": [],
   "source": [
    "from torch.utils.data import TensorDataset, DataLoader, RandomSampler, SequentialSampler\n",
    "\n",
    "batch_size = 100 \n",
    "\n",
    "train_data = TensorDataset(train_inputs, train_masks, train_labels)\n",
    "train_sampler = RandomSampler(train_data)\n",
    "train_dataloader = DataLoader(train_data, sampler=train_sampler, batch_size=batch_size)\n",
    "\n",
    "validation_data = TensorDataset(validation_inputs, validation_masks, validation_labels)\n",
    "validation_sampler = RandomSampler(validation_data)\n",
    "validation_dataloader = DataLoader(validation_data, sampler=validation_sampler, batch_size=batch_size)"
   ],
   "metadata": {
    "collapsed": false
   },
   "id": "f66825eb4c6b0acb"
  },
  {
   "cell_type": "markdown",
   "source": [
    "### Training BERT Classification Model"
   ],
   "metadata": {
    "collapsed": false
   },
   "id": "586b478daf3aa008"
  },
  {
   "cell_type": "code",
   "execution_count": 87,
   "outputs": [
    {
     "name": "stderr",
     "output_type": "stream",
     "text": [
      "Some weights of BertForSequenceClassification were not initialized from the model checkpoint at bert-base-uncased and are newly initialized: ['classifier.bias', 'classifier.weight']\n",
      "You should probably TRAIN this model on a down-stream task to be able to use it for predictions and inference.\n"
     ]
    },
    {
     "data": {
      "text/plain": "BertForSequenceClassification(\n  (bert): BertModel(\n    (embeddings): BertEmbeddings(\n      (word_embeddings): Embedding(30522, 768, padding_idx=0)\n      (position_embeddings): Embedding(512, 768)\n      (token_type_embeddings): Embedding(2, 768)\n      (LayerNorm): LayerNorm((768,), eps=1e-12, elementwise_affine=True)\n      (dropout): Dropout(p=0.1, inplace=False)\n    )\n    (encoder): BertEncoder(\n      (layer): ModuleList(\n        (0-11): 12 x BertLayer(\n          (attention): BertAttention(\n            (self): BertSelfAttention(\n              (query): Linear(in_features=768, out_features=768, bias=True)\n              (key): Linear(in_features=768, out_features=768, bias=True)\n              (value): Linear(in_features=768, out_features=768, bias=True)\n              (dropout): Dropout(p=0.1, inplace=False)\n            )\n            (output): BertSelfOutput(\n              (dense): Linear(in_features=768, out_features=768, bias=True)\n              (LayerNorm): LayerNorm((768,), eps=1e-12, elementwise_affine=True)\n              (dropout): Dropout(p=0.1, inplace=False)\n            )\n          )\n          (intermediate): BertIntermediate(\n            (dense): Linear(in_features=768, out_features=3072, bias=True)\n            (intermediate_act_fn): GELUActivation()\n          )\n          (output): BertOutput(\n            (dense): Linear(in_features=3072, out_features=768, bias=True)\n            (LayerNorm): LayerNorm((768,), eps=1e-12, elementwise_affine=True)\n            (dropout): Dropout(p=0.1, inplace=False)\n          )\n        )\n      )\n    )\n    (pooler): BertPooler(\n      (dense): Linear(in_features=768, out_features=768, bias=True)\n      (activation): Tanh()\n    )\n  )\n  (dropout): Dropout(p=0.1, inplace=False)\n  (classifier): Linear(in_features=768, out_features=2, bias=True)\n)"
     },
     "execution_count": 87,
     "metadata": {},
     "output_type": "execute_result"
    }
   ],
   "source": [
    "from transformers import BertForSequenceClassification, AdamW, BertConfig\n",
    "import torch\n",
    "\n",
    "# Load BertForSequenceClassification, the pretrained BERT model\n",
    "model = BertForSequenceClassification.from_pretrained(\n",
    "    \"bert-base-uncased\",  # Use the 12-layer BERT model, with an uncased vocab.\n",
    "     num_labels = 2,      # The number of output labels -- 2 for binary classification.\n",
    "                    # You can increase this for multi-class tasks.   \n",
    "     output_attentions = False, # Whether the model returns attentions weights.\n",
    "     output_hidden_states = False, # Whether the model returns all hidden-states.\n",
    ")\n",
    "\n",
    "model.to(device)"
   ],
   "metadata": {
    "collapsed": false,
    "ExecuteTime": {
     "end_time": "2024-04-18T23:40:13.065762Z",
     "start_time": "2024-04-18T23:40:12.033672Z"
    }
   },
   "id": "29f36b7941bd518b"
  },
  {
   "cell_type": "code",
   "execution_count": 88,
   "outputs": [
    {
     "name": "stderr",
     "output_type": "stream",
     "text": [
      "/Library/Frameworks/Python.framework/Versions/3.11/lib/python3.11/site-packages/transformers/optimization.py:457: FutureWarning: This implementation of AdamW is deprecated and will be removed in a future version. Use the PyTorch implementation torch.optim.AdamW instead, or set `no_deprecation_warning=True` to disable this warning\n",
      "  warnings.warn(\n"
     ]
    }
   ],
   "source": [
    "optimizer = AdamW(model.parameters(),lr = 5e-5, eps = 1e-8)"
   ],
   "metadata": {
    "collapsed": false,
    "ExecuteTime": {
     "end_time": "2024-04-18T23:40:13.078532Z",
     "start_time": "2024-04-18T23:40:13.063568Z"
    }
   },
   "id": "3af439b0549417cb"
  },
  {
   "cell_type": "code",
   "execution_count": 89,
   "outputs": [
    {
     "name": "stdout",
     "output_type": "stream",
     "text": [
      "total_steps = 2970\n"
     ]
    }
   ],
   "source": [
    "from transformers import get_linear_schedule_with_warmup\n",
    "\n",
    "# Number of training epochs (authors recommend between 2 and 4)\n",
    "epochs = 3\n",
    "\n",
    "# Total number of training steps is number of batches * number of epochs.\n",
    "total_steps = len(train_dataloader) * epochs\n",
    "print(\"total_steps = {}\".format(total_steps))\n",
    "\n",
    "# Create the learning rate scheduler.\n",
    "scheduler = get_linear_schedule_with_warmup(optimizer, \n",
    "                                            num_warmup_steps = 0, # Default value in run_glue.py\n",
    "                                            num_training_steps = total_steps)"
   ],
   "metadata": {
    "collapsed": false,
    "ExecuteTime": {
     "end_time": "2024-04-18T23:40:13.176820Z",
     "start_time": "2024-04-18T23:40:13.069440Z"
    }
   },
   "id": "29c39e8a7d16e3f0"
  },
  {
   "cell_type": "markdown",
   "source": [
    "### Training"
   ],
   "metadata": {
    "collapsed": false
   },
   "id": "55a9333b83f05a70"
  },
  {
   "cell_type": "code",
   "execution_count": 90,
   "outputs": [],
   "source": [
    "# Function to calculate the f1 score \n",
    "def flat_accuracy(preds, labels):\n",
    "    pred_flat = np.argmax(preds, axis=1).flatten()\n",
    "    labels_flat = labels.flatten()\n",
    "    return np.sum(pred_flat == labels_flat) / len(labels_flat)"
   ],
   "metadata": {
    "collapsed": false,
    "ExecuteTime": {
     "end_time": "2024-04-18T23:40:15.184098Z",
     "start_time": "2024-04-18T23:40:15.167660Z"
    }
   },
   "id": "cf759da493158ffb"
  },
  {
   "cell_type": "code",
   "execution_count": 91,
   "outputs": [],
   "source": [
    "def format_time(elapsed):\n",
    "    '''\n",
    "    Takes a time in seconds and returns a string hh:mm:ss\n",
    "    '''\n",
    "    # Round to the nearest second.\n",
    "    elapsed_rounded = int(round((elapsed)))\n",
    "    \n",
    "    # Format as hh:mm:ss\n",
    "    return str(datetime.timedelta(seconds=elapsed_rounded))"
   ],
   "metadata": {
    "collapsed": false,
    "ExecuteTime": {
     "end_time": "2024-04-18T23:40:16.375844Z",
     "start_time": "2024-04-18T23:40:16.362988Z"
    }
   },
   "id": "892f58c3df22a967"
  },
  {
   "cell_type": "code",
   "execution_count": 92,
   "outputs": [
    {
     "name": "stdout",
     "output_type": "stream",
     "text": [
      "\n",
      "======== Epoch 1 / 3 ========\n",
      "Training...\n",
      "  Batch    10  of    990.    Elapsed: 0:00:52.\n",
      "  Batch    20  of    990.    Elapsed: 0:01:39.\n",
      "  Batch    30  of    990.    Elapsed: 0:02:21.\n",
      "  Batch    40  of    990.    Elapsed: 0:03:02.\n",
      "  Batch    50  of    990.    Elapsed: 0:03:44.\n",
      "  Batch    60  of    990.    Elapsed: 0:04:26.\n",
      "  Batch    70  of    990.    Elapsed: 0:05:07.\n",
      "  Batch    80  of    990.    Elapsed: 0:05:48.\n",
      "  Batch    90  of    990.    Elapsed: 0:06:31.\n",
      "  Batch   100  of    990.    Elapsed: 0:07:11.\n",
      "  Batch   110  of    990.    Elapsed: 0:07:52.\n",
      "  Batch   120  of    990.    Elapsed: 0:08:32.\n",
      "  Batch   130  of    990.    Elapsed: 0:09:12.\n",
      "  Batch   140  of    990.    Elapsed: 0:09:53.\n",
      "  Batch   150  of    990.    Elapsed: 0:10:34.\n",
      "  Batch   160  of    990.    Elapsed: 0:11:25.\n",
      "  Batch   170  of    990.    Elapsed: 0:12:06.\n",
      "  Batch   180  of    990.    Elapsed: 0:12:46.\n",
      "  Batch   190  of    990.    Elapsed: 0:13:26.\n",
      "  Batch   200  of    990.    Elapsed: 0:14:06.\n",
      "  Batch   210  of    990.    Elapsed: 0:14:47.\n",
      "  Batch   220  of    990.    Elapsed: 0:15:27.\n",
      "  Batch   230  of    990.    Elapsed: 0:16:07.\n",
      "  Batch   240  of    990.    Elapsed: 0:16:48.\n",
      "  Batch   250  of    990.    Elapsed: 0:17:28.\n",
      "  Batch   260  of    990.    Elapsed: 0:18:08.\n",
      "  Batch   270  of    990.    Elapsed: 0:18:48.\n",
      "  Batch   280  of    990.    Elapsed: 0:19:28.\n",
      "  Batch   290  of    990.    Elapsed: 0:20:09.\n",
      "  Batch   300  of    990.    Elapsed: 0:20:49.\n",
      "  Batch   310  of    990.    Elapsed: 0:21:29.\n",
      "  Batch   320  of    990.    Elapsed: 0:22:09.\n",
      "  Batch   330  of    990.    Elapsed: 0:22:50.\n",
      "  Batch   340  of    990.    Elapsed: 0:23:31.\n",
      "  Batch   350  of    990.    Elapsed: 0:24:11.\n",
      "  Batch   360  of    990.    Elapsed: 0:24:52.\n",
      "  Batch   370  of    990.    Elapsed: 0:25:39.\n",
      "  Batch   380  of    990.    Elapsed: 0:26:20.\n",
      "  Batch   390  of    990.    Elapsed: 0:27:00.\n",
      "  Batch   400  of    990.    Elapsed: 0:27:41.\n",
      "  Batch   410  of    990.    Elapsed: 0:28:22.\n",
      "  Batch   420  of    990.    Elapsed: 0:29:06.\n",
      "  Batch   430  of    990.    Elapsed: 0:29:57.\n",
      "  Batch   440  of    990.    Elapsed: 0:30:41.\n",
      "  Batch   450  of    990.    Elapsed: 0:31:27.\n",
      "  Batch   460  of    990.    Elapsed: 0:32:10.\n",
      "  Batch   470  of    990.    Elapsed: 0:32:53.\n",
      "  Batch   480  of    990.    Elapsed: 0:33:37.\n",
      "  Batch   490  of    990.    Elapsed: 0:34:19.\n",
      "  Batch   500  of    990.    Elapsed: 0:35:02.\n",
      "  Batch   510  of    990.    Elapsed: 0:35:58.\n",
      "  Batch   520  of    990.    Elapsed: 0:36:40.\n",
      "  Batch   530  of    990.    Elapsed: 0:37:21.\n",
      "  Batch   540  of    990.    Elapsed: 0:38:02.\n",
      "  Batch   550  of    990.    Elapsed: 0:38:43.\n",
      "  Batch   560  of    990.    Elapsed: 0:39:24.\n",
      "  Batch   570  of    990.    Elapsed: 0:40:05.\n",
      "  Batch   580  of    990.    Elapsed: 0:40:47.\n",
      "  Batch   590  of    990.    Elapsed: 0:41:28.\n",
      "  Batch   600  of    990.    Elapsed: 0:42:09.\n",
      "  Batch   610  of    990.    Elapsed: 0:42:50.\n",
      "  Batch   620  of    990.    Elapsed: 0:43:31.\n",
      "  Batch   630  of    990.    Elapsed: 0:44:12.\n",
      "  Batch   640  of    990.    Elapsed: 0:44:53.\n",
      "  Batch   650  of    990.    Elapsed: 0:45:34.\n",
      "  Batch   660  of    990.    Elapsed: 0:46:15.\n",
      "  Batch   670  of    990.    Elapsed: 0:46:56.\n",
      "  Batch   680  of    990.    Elapsed: 0:47:37.\n",
      "  Batch   690  of    990.    Elapsed: 0:48:18.\n",
      "  Batch   700  of    990.    Elapsed: 0:48:59.\n",
      "  Batch   710  of    990.    Elapsed: 0:49:40.\n",
      "  Batch   720  of    990.    Elapsed: 0:50:21.\n",
      "  Batch   730  of    990.    Elapsed: 0:51:02.\n",
      "  Batch   740  of    990.    Elapsed: 0:51:43.\n",
      "  Batch   750  of    990.    Elapsed: 0:52:24.\n",
      "  Batch   760  of    990.    Elapsed: 0:53:05.\n",
      "  Batch   770  of    990.    Elapsed: 0:53:46.\n",
      "  Batch   780  of    990.    Elapsed: 0:54:27.\n",
      "  Batch   790  of    990.    Elapsed: 0:55:08.\n",
      "  Batch   800  of    990.    Elapsed: 0:55:49.\n",
      "  Batch   810  of    990.    Elapsed: 0:56:30.\n",
      "  Batch   820  of    990.    Elapsed: 0:57:11.\n",
      "  Batch   830  of    990.    Elapsed: 0:57:53.\n",
      "  Batch   840  of    990.    Elapsed: 0:58:34.\n",
      "  Batch   850  of    990.    Elapsed: 0:59:15.\n",
      "  Batch   860  of    990.    Elapsed: 0:59:56.\n",
      "  Batch   870  of    990.    Elapsed: 1:00:37.\n",
      "  Batch   880  of    990.    Elapsed: 1:01:18.\n",
      "  Batch   890  of    990.    Elapsed: 1:01:59.\n",
      "  Batch   900  of    990.    Elapsed: 1:02:40.\n",
      "  Batch   910  of    990.    Elapsed: 1:03:21.\n",
      "  Batch   920  of    990.    Elapsed: 1:04:02.\n",
      "  Batch   930  of    990.    Elapsed: 1:04:43.\n",
      "  Batch   940  of    990.    Elapsed: 1:05:24.\n",
      "  Batch   950  of    990.    Elapsed: 1:06:05.\n",
      "  Batch   960  of    990.    Elapsed: 1:06:46.\n",
      "  Batch   970  of    990.    Elapsed: 1:07:27.\n",
      "  Batch   980  of    990.    Elapsed: 1:08:08.\n",
      "\n",
      "  Average training loss: 0.24\n",
      "  Training epcoh took: 1:08:49\n",
      "\n",
      "Running Validation...\n",
      "  Accuracy: 0.89\n",
      "  Validation took: 0:01:48\n",
      "\n",
      "======== Epoch 2 / 3 ========\n",
      "Training...\n",
      "  Batch    10  of    990.    Elapsed: 0:00:42.\n",
      "  Batch    20  of    990.    Elapsed: 0:01:23.\n",
      "  Batch    30  of    990.    Elapsed: 0:02:04.\n",
      "  Batch    40  of    990.    Elapsed: 0:02:45.\n",
      "  Batch    50  of    990.    Elapsed: 0:03:26.\n",
      "  Batch    60  of    990.    Elapsed: 0:04:07.\n",
      "  Batch    70  of    990.    Elapsed: 0:04:49.\n",
      "  Batch    80  of    990.    Elapsed: 0:05:29.\n",
      "  Batch    90  of    990.    Elapsed: 0:06:10.\n",
      "  Batch   100  of    990.    Elapsed: 0:06:51.\n",
      "  Batch   110  of    990.    Elapsed: 0:07:32.\n",
      "  Batch   120  of    990.    Elapsed: 0:08:13.\n",
      "  Batch   130  of    990.    Elapsed: 0:08:54.\n",
      "  Batch   140  of    990.    Elapsed: 0:09:35.\n",
      "  Batch   150  of    990.    Elapsed: 0:10:16.\n",
      "  Batch   160  of    990.    Elapsed: 0:10:57.\n",
      "  Batch   170  of    990.    Elapsed: 0:11:38.\n",
      "  Batch   180  of    990.    Elapsed: 0:12:19.\n",
      "  Batch   190  of    990.    Elapsed: 0:13:00.\n",
      "  Batch   200  of    990.    Elapsed: 0:13:41.\n",
      "  Batch   210  of    990.    Elapsed: 0:14:22.\n",
      "  Batch   220  of    990.    Elapsed: 0:15:03.\n",
      "  Batch   230  of    990.    Elapsed: 0:15:44.\n",
      "  Batch   240  of    990.    Elapsed: 0:16:25.\n",
      "  Batch   250  of    990.    Elapsed: 0:17:06.\n",
      "  Batch   260  of    990.    Elapsed: 0:17:47.\n",
      "  Batch   270  of    990.    Elapsed: 0:18:28.\n",
      "  Batch   280  of    990.    Elapsed: 0:19:09.\n",
      "  Batch   290  of    990.    Elapsed: 0:19:50.\n",
      "  Batch   300  of    990.    Elapsed: 0:20:31.\n",
      "  Batch   310  of    990.    Elapsed: 0:21:12.\n",
      "  Batch   320  of    990.    Elapsed: 0:21:53.\n",
      "  Batch   330  of    990.    Elapsed: 0:22:34.\n",
      "  Batch   340  of    990.    Elapsed: 0:23:15.\n",
      "  Batch   350  of    990.    Elapsed: 0:23:56.\n",
      "  Batch   360  of    990.    Elapsed: 0:24:37.\n",
      "  Batch   370  of    990.    Elapsed: 0:25:18.\n",
      "  Batch   380  of    990.    Elapsed: 0:25:59.\n",
      "  Batch   390  of    990.    Elapsed: 0:26:41.\n",
      "  Batch   400  of    990.    Elapsed: 0:27:22.\n",
      "  Batch   410  of    990.    Elapsed: 0:28:02.\n",
      "  Batch   420  of    990.    Elapsed: 0:28:44.\n",
      "  Batch   430  of    990.    Elapsed: 0:29:25.\n",
      "  Batch   440  of    990.    Elapsed: 0:30:06.\n",
      "  Batch   450  of    990.    Elapsed: 0:30:47.\n",
      "  Batch   460  of    990.    Elapsed: 0:31:28.\n",
      "  Batch   470  of    990.    Elapsed: 0:32:09.\n",
      "  Batch   480  of    990.    Elapsed: 0:32:50.\n",
      "  Batch   490  of    990.    Elapsed: 0:33:31.\n",
      "  Batch   500  of    990.    Elapsed: 0:34:12.\n",
      "  Batch   510  of    990.    Elapsed: 0:34:53.\n",
      "  Batch   520  of    990.    Elapsed: 0:35:34.\n",
      "  Batch   530  of    990.    Elapsed: 0:36:14.\n",
      "  Batch   540  of    990.    Elapsed: 0:36:55.\n",
      "  Batch   550  of    990.    Elapsed: 0:37:37.\n",
      "  Batch   560  of    990.    Elapsed: 0:38:18.\n",
      "  Batch   570  of    990.    Elapsed: 0:38:58.\n",
      "  Batch   580  of    990.    Elapsed: 0:39:40.\n",
      "  Batch   590  of    990.    Elapsed: 0:40:20.\n",
      "  Batch   600  of    990.    Elapsed: 0:41:01.\n",
      "  Batch   610  of    990.    Elapsed: 0:41:42.\n",
      "  Batch   620  of    990.    Elapsed: 0:42:24.\n",
      "  Batch   630  of    990.    Elapsed: 0:43:05.\n",
      "  Batch   640  of    990.    Elapsed: 0:43:45.\n",
      "  Batch   650  of    990.    Elapsed: 0:44:26.\n",
      "  Batch   660  of    990.    Elapsed: 0:45:07.\n",
      "  Batch   670  of    990.    Elapsed: 0:45:48.\n",
      "  Batch   680  of    990.    Elapsed: 0:46:29.\n",
      "  Batch   690  of    990.    Elapsed: 0:47:10.\n",
      "  Batch   700  of    990.    Elapsed: 0:47:51.\n",
      "  Batch   710  of    990.    Elapsed: 0:48:33.\n",
      "  Batch   720  of    990.    Elapsed: 0:49:13.\n",
      "  Batch   730  of    990.    Elapsed: 0:49:54.\n",
      "  Batch   740  of    990.    Elapsed: 0:50:35.\n",
      "  Batch   750  of    990.    Elapsed: 0:51:16.\n",
      "  Batch   760  of    990.    Elapsed: 0:51:57.\n",
      "  Batch   770  of    990.    Elapsed: 0:52:38.\n",
      "  Batch   780  of    990.    Elapsed: 0:53:19.\n",
      "  Batch   790  of    990.    Elapsed: 0:54:00.\n",
      "  Batch   800  of    990.    Elapsed: 0:54:41.\n",
      "  Batch   810  of    990.    Elapsed: 0:55:22.\n",
      "  Batch   820  of    990.    Elapsed: 0:56:03.\n",
      "  Batch   830  of    990.    Elapsed: 0:56:44.\n",
      "  Batch   840  of    990.    Elapsed: 0:57:25.\n",
      "  Batch   850  of    990.    Elapsed: 0:58:07.\n",
      "  Batch   860  of    990.    Elapsed: 0:58:48.\n",
      "  Batch   870  of    990.    Elapsed: 0:59:28.\n",
      "  Batch   880  of    990.    Elapsed: 1:00:09.\n",
      "  Batch   890  of    990.    Elapsed: 1:00:50.\n",
      "  Batch   900  of    990.    Elapsed: 1:01:31.\n",
      "  Batch   910  of    990.    Elapsed: 1:02:12.\n",
      "  Batch   920  of    990.    Elapsed: 1:02:53.\n",
      "  Batch   930  of    990.    Elapsed: 1:03:35.\n",
      "  Batch   940  of    990.    Elapsed: 1:04:16.\n",
      "  Batch   950  of    990.    Elapsed: 1:04:56.\n",
      "  Batch   960  of    990.    Elapsed: 1:05:38.\n",
      "  Batch   970  of    990.    Elapsed: 1:06:19.\n",
      "  Batch   980  of    990.    Elapsed: 1:07:00.\n",
      "\n",
      "  Average training loss: 0.15\n",
      "  Training epcoh took: 1:07:41\n",
      "\n",
      "Running Validation...\n",
      "  Accuracy: 0.89\n",
      "  Validation took: 0:01:48\n",
      "\n",
      "======== Epoch 3 / 3 ========\n",
      "Training...\n",
      "  Batch    10  of    990.    Elapsed: 0:00:42.\n",
      "  Batch    20  of    990.    Elapsed: 0:01:23.\n",
      "  Batch    30  of    990.    Elapsed: 0:02:04.\n",
      "  Batch    40  of    990.    Elapsed: 0:02:45.\n",
      "  Batch    50  of    990.    Elapsed: 0:03:26.\n",
      "  Batch    60  of    990.    Elapsed: 0:04:07.\n",
      "  Batch    70  of    990.    Elapsed: 0:04:48.\n",
      "  Batch    80  of    990.    Elapsed: 0:05:29.\n",
      "  Batch    90  of    990.    Elapsed: 0:06:10.\n",
      "  Batch   100  of    990.    Elapsed: 0:06:51.\n",
      "  Batch   110  of    990.    Elapsed: 0:07:32.\n",
      "  Batch   120  of    990.    Elapsed: 0:08:13.\n",
      "  Batch   130  of    990.    Elapsed: 0:08:54.\n",
      "  Batch   140  of    990.    Elapsed: 0:09:36.\n",
      "  Batch   150  of    990.    Elapsed: 0:10:17.\n",
      "  Batch   160  of    990.    Elapsed: 0:10:57.\n",
      "  Batch   170  of    990.    Elapsed: 0:11:39.\n",
      "  Batch   180  of    990.    Elapsed: 0:12:20.\n",
      "  Batch   190  of    990.    Elapsed: 0:13:01.\n",
      "  Batch   200  of    990.    Elapsed: 0:13:42.\n",
      "  Batch   210  of    990.    Elapsed: 0:14:23.\n",
      "  Batch   220  of    990.    Elapsed: 0:15:04.\n",
      "  Batch   230  of    990.    Elapsed: 0:15:45.\n",
      "  Batch   240  of    990.    Elapsed: 0:16:26.\n",
      "  Batch   250  of    990.    Elapsed: 0:17:07.\n",
      "  Batch   260  of    990.    Elapsed: 0:17:48.\n",
      "  Batch   270  of    990.    Elapsed: 0:18:29.\n",
      "  Batch   280  of    990.    Elapsed: 0:19:10.\n",
      "  Batch   290  of    990.    Elapsed: 0:19:51.\n",
      "  Batch   300  of    990.    Elapsed: 0:20:32.\n",
      "  Batch   310  of    990.    Elapsed: 0:21:13.\n",
      "  Batch   320  of    990.    Elapsed: 0:21:54.\n",
      "  Batch   330  of    990.    Elapsed: 0:22:35.\n",
      "  Batch   340  of    990.    Elapsed: 0:23:16.\n",
      "  Batch   350  of    990.    Elapsed: 0:23:57.\n",
      "  Batch   360  of    990.    Elapsed: 0:24:38.\n",
      "  Batch   370  of    990.    Elapsed: 0:25:19.\n",
      "  Batch   380  of    990.    Elapsed: 0:26:00.\n",
      "  Batch   390  of    990.    Elapsed: 0:26:41.\n",
      "  Batch   400  of    990.    Elapsed: 0:27:22.\n",
      "  Batch   410  of    990.    Elapsed: 0:28:03.\n",
      "  Batch   420  of    990.    Elapsed: 0:28:44.\n",
      "  Batch   430  of    990.    Elapsed: 0:29:25.\n",
      "  Batch   440  of    990.    Elapsed: 0:30:06.\n",
      "  Batch   450  of    990.    Elapsed: 0:30:47.\n",
      "  Batch   460  of    990.    Elapsed: 0:31:28.\n",
      "  Batch   470  of    990.    Elapsed: 0:32:09.\n",
      "  Batch   480  of    990.    Elapsed: 0:32:50.\n",
      "  Batch   490  of    990.    Elapsed: 0:33:31.\n",
      "  Batch   500  of    990.    Elapsed: 0:34:12.\n",
      "  Batch   510  of    990.    Elapsed: 0:34:53.\n",
      "  Batch   520  of    990.    Elapsed: 0:35:34.\n",
      "  Batch   530  of    990.    Elapsed: 0:36:15.\n",
      "  Batch   540  of    990.    Elapsed: 0:36:56.\n",
      "  Batch   550  of    990.    Elapsed: 0:37:37.\n",
      "  Batch   560  of    990.    Elapsed: 0:38:18.\n",
      "  Batch   570  of    990.    Elapsed: 0:38:59.\n",
      "  Batch   580  of    990.    Elapsed: 0:39:40.\n",
      "  Batch   590  of    990.    Elapsed: 0:40:20.\n",
      "  Batch   600  of    990.    Elapsed: 0:41:02.\n",
      "  Batch   610  of    990.    Elapsed: 0:41:43.\n",
      "  Batch   620  of    990.    Elapsed: 0:42:23.\n",
      "  Batch   630  of    990.    Elapsed: 0:43:04.\n",
      "  Batch   640  of    990.    Elapsed: 0:43:45.\n",
      "  Batch   650  of    990.    Elapsed: 0:44:26.\n",
      "  Batch   660  of    990.    Elapsed: 0:45:07.\n",
      "  Batch   670  of    990.    Elapsed: 0:45:48.\n",
      "  Batch   680  of    990.    Elapsed: 0:46:29.\n",
      "  Batch   690  of    990.    Elapsed: 0:47:10.\n",
      "  Batch   700  of    990.    Elapsed: 0:47:51.\n",
      "  Batch   710  of    990.    Elapsed: 0:48:32.\n",
      "  Batch   720  of    990.    Elapsed: 0:49:13.\n",
      "  Batch   730  of    990.    Elapsed: 0:49:53.\n",
      "  Batch   740  of    990.    Elapsed: 0:50:34.\n",
      "  Batch   750  of    990.    Elapsed: 0:51:16.\n",
      "  Batch   760  of    990.    Elapsed: 0:51:57.\n",
      "  Batch   770  of    990.    Elapsed: 0:52:37.\n",
      "  Batch   780  of    990.    Elapsed: 0:53:19.\n",
      "  Batch   790  of    990.    Elapsed: 0:53:59.\n",
      "  Batch   800  of    990.    Elapsed: 0:54:40.\n",
      "  Batch   810  of    990.    Elapsed: 0:55:21.\n",
      "  Batch   820  of    990.    Elapsed: 0:56:03.\n",
      "  Batch   830  of    990.    Elapsed: 0:56:44.\n",
      "  Batch   840  of    990.    Elapsed: 0:57:25.\n",
      "  Batch   850  of    990.    Elapsed: 0:58:05.\n",
      "  Batch   860  of    990.    Elapsed: 0:58:46.\n",
      "  Batch   870  of    990.    Elapsed: 0:59:27.\n",
      "  Batch   880  of    990.    Elapsed: 1:00:08.\n",
      "  Batch   890  of    990.    Elapsed: 1:00:49.\n",
      "  Batch   900  of    990.    Elapsed: 1:01:30.\n",
      "  Batch   910  of    990.    Elapsed: 1:02:11.\n",
      "  Batch   920  of    990.    Elapsed: 1:02:52.\n",
      "  Batch   930  of    990.    Elapsed: 1:03:33.\n",
      "  Batch   940  of    990.    Elapsed: 1:04:14.\n",
      "  Batch   950  of    990.    Elapsed: 1:04:55.\n",
      "  Batch   960  of    990.    Elapsed: 1:05:36.\n",
      "  Batch   970  of    990.    Elapsed: 1:06:17.\n",
      "  Batch   980  of    990.    Elapsed: 1:06:58.\n",
      "\n",
      "  Average training loss: 0.09\n",
      "  Training epcoh took: 1:07:39\n",
      "\n",
      "Running Validation...\n",
      "  Accuracy: 0.90\n",
      "  Validation took: 0:01:48\n",
      "\n",
      "Training complete!\n"
     ]
    }
   ],
   "source": [
    "# Set the seed value all over the place to make this reproducible.\n",
    "seed_val = 12345\n",
    "\n",
    "random.seed(seed_val)\n",
    "np.random.seed(seed_val)\n",
    "torch.manual_seed(seed_val)\n",
    "\n",
    "# Store the average loss after each epoch so we can plot them.\n",
    "loss_values = []\n",
    "\n",
    "# For each epoch...\n",
    "for epoch_i in range(epochs):\n",
    "    \n",
    "    ##########################################\n",
    "    #               Training                 #\n",
    "    ##########################################\n",
    "    \n",
    "    # Perform one full pass over the training set.\n",
    "\n",
    "    print(\"\")\n",
    "    print('======== Epoch {:} / {:} ========'.format(epoch_i + 1, epochs))\n",
    "    print('Training...')\n",
    "\n",
    "    # Measure how long the training epoch takes.\n",
    "    t0 = time.time()\n",
    "\n",
    "    # Reset the total loss for this epoch.\n",
    "    total_loss = 0\n",
    "\n",
    "    # Put the model into training mode. Don't be mislead--the call to \n",
    "    # `train` just changes the *mode*, it doesn't *perform* the training.\n",
    "    # `dropout` and `batchnorm` layers behave differently during training\n",
    "    # vs. test (source: https://stackoverflow.com/questions/51433378/what-does-model-train-do-in-pytorch)\n",
    "    model.train()\n",
    "\n",
    "    # For each batch of training data...\n",
    "    for step, batch in enumerate(train_dataloader):\n",
    "\n",
    "        # Progress update every 10 batches.\n",
    "        if step % 10 == 0 and not step == 0:\n",
    "            # Calculate elapsed time in minutes.\n",
    "            elapsed = format_time(time.time() - t0)\n",
    "            \n",
    "            # Report progress.\n",
    "            print('  Batch {:>5,}  of  {:>5,}.    Elapsed: {:}.'.format(step, len(train_dataloader), elapsed))\n",
    "\n",
    "        # Unpack this training batch from our dataloader. \n",
    "        # `batch` contains three pytorch tensors:\n",
    "        #   [0]: input ids \n",
    "        #   [1]: attention masks\n",
    "        #   [2]: labels \n",
    "        b_input_ids = batch[0].to(device)\n",
    "        b_input_mask = batch[1].to(device)\n",
    "        b_labels = batch[2].to(device)\n",
    "\n",
    "        # Clear the gradients.\n",
    "        model.zero_grad()        \n",
    "\n",
    "        # Perform a forward pass (evaluate the model on this training batch).\n",
    "        # This will return the loss (rather than the model output) because we have provided the `labels`.\n",
    "        outputs = model(b_input_ids, \n",
    "                        token_type_ids=None, \n",
    "                        attention_mask=b_input_mask, \n",
    "                        labels=b_labels)\n",
    "        \n",
    "        # The call to `model` always returns a tuple, so we need to pull the \n",
    "        # loss value out of the tuple.\n",
    "        loss = outputs[0]\n",
    "\n",
    "        # Accumulate the training loss over all of the batches so that we can calculate the average loss at the end. \n",
    "        # `loss` is a Tensor containing a single value; the `.item()` function just returns the Python value from the tensor.\n",
    "        total_loss += loss.item()\n",
    "\n",
    "        # Perform a `backward` pass to calculate the gradients.\n",
    "        loss.backward()\n",
    "\n",
    "        # Clip the norm of the gradients to 1.0.\n",
    "        # This is to help prevent the \"exploding gradients\" problem.\n",
    "        torch.nn.utils.clip_grad_norm_(model.parameters(), 1.0)\n",
    "\n",
    "        # Update parameters and take a step using the computed gradient.\n",
    "        # The optimizer dictates the \"update rule\"--how the parameters are modified based on their gradients, the learning rate, etc.\n",
    "        optimizer.step()\n",
    "\n",
    "        # Update the learning rate.\n",
    "        scheduler.step()\n",
    "\n",
    "    # Calculate the average loss over the training data.\n",
    "    avg_train_loss = total_loss / len(train_dataloader)            \n",
    "    \n",
    "    # Store the loss value for plotting the learning curve.\n",
    "    loss_values.append(avg_train_loss)\n",
    "\n",
    "    print(\"\")\n",
    "    print(\"  Average training loss: {0:.2f}\".format(avg_train_loss))\n",
    "    print(\"  Training epcoh took: {:}\".format(format_time(time.time() - t0)))\n",
    "        \n",
    "        \n",
    "    ##########################################\n",
    "    #               Validation               #\n",
    "    ##########################################\n",
    "    # After the completion of each training epoch, measure our performance on our validation set.\n",
    "\n",
    "    print(\"\")\n",
    "    print(\"Running Validation...\")\n",
    "\n",
    "    t0 = time.time()\n",
    "\n",
    "    # Put the model in evaluation mode--the dropout layers behave differently during evaluation.\n",
    "    model.eval()\n",
    "\n",
    "    # Tracking variables \n",
    "    eval_loss, eval_accuracy = 0, 0\n",
    "    nb_eval_steps, nb_eval_examples = 0, 0\n",
    "\n",
    "    # Evaluate data for one epoch\n",
    "    for batch in validation_dataloader:\n",
    "        \n",
    "        # Add batch to device\n",
    "        batch = tuple(t.to(device) for t in batch)\n",
    "        \n",
    "        # Unpack the inputs from our dataloader\n",
    "        b_input_ids, b_input_mask, b_labels = batch\n",
    "        \n",
    "        # Telling the model not to compute or store gradients, saving memory and speeding up validation\n",
    "        with torch.no_grad():        \n",
    "\n",
    "            # Forward pass, calculate logit predictions.\n",
    "            # This will return the logits rather than the loss because we have not provided labels.\n",
    "            # token_type_ids is the same as the \"segment ids\", which differentiates sentence 1 and 2 in 2-sentence tasks.\n",
    "            # The documentation for this `model` function is here: \n",
    "            # https://huggingface.co/transformers/v2.2.0/model_doc/bert.html#transformers.BertForSequenceClassification\n",
    "            outputs = model(b_input_ids, \n",
    "                            token_type_ids=None, \n",
    "                            attention_mask=b_input_mask)\n",
    "        \n",
    "        # Get the \"logits\" output by the model. The \"logits\" are the output\n",
    "        # values prior to applying an activation function like the softmax.\n",
    "        logits = outputs[0]\n",
    "        \n",
    "        # Move logits and labels to CPU\n",
    "        logits = logits.detach().cpu().numpy()\n",
    "        label_ids = b_labels.to('cpu').numpy()\n",
    "        \n",
    "        # Calculate the accuracy for this batch of test sentences.\n",
    "        # flat_accuracy(y_pred, y_true)\n",
    "        pred = np.argmax(logits, axis=1)\n",
    "        tmp_eval_accuracy = f1_score(pred, label_ids)\n",
    "        \n",
    "        # Accumulate the total accuracy.\n",
    "        eval_accuracy += tmp_eval_accuracy\n",
    "\n",
    "        # Track the number of batches\n",
    "        nb_eval_steps += 1\n",
    "\n",
    "    # Report the final accuracy for this validation run.\n",
    "    print(\"  Accuracy: {0:.2f}\".format(eval_accuracy/nb_eval_steps))\n",
    "    print(\"  Validation took: {:}\".format(format_time(time.time() - t0)))\n",
    "\n",
    "print(\"\")\n",
    "print(\"Training complete!\")"
   ],
   "metadata": {
    "collapsed": false,
    "ExecuteTime": {
     "end_time": "2024-04-19T03:09:51.407222Z",
     "start_time": "2024-04-18T23:40:17.709018Z"
    }
   },
   "id": "5501f155cb5061d8"
  },
  {
   "cell_type": "code",
   "execution_count": null,
   "outputs": [],
   "source": [
    "test_data = TensorDataset(test_inputs, test_masks, test_labels)\n",
    "test_sampler = SequentialSampler(test_data)\n",
    "test_dataloader = DataLoader(test_data, sampler=test_sampler, batch_size=12001)"
   ],
   "metadata": {
    "collapsed": false
   },
   "id": "f2acf35ecd50628f"
  },
  {
   "cell_type": "code",
   "execution_count": null,
   "outputs": [],
   "source": [
    "#We used 0 as the test labels, only for using the pre-written function.\n",
    "test_labels = torch.zeros((12001))\n",
    "print(test_labels)"
   ],
   "metadata": {
    "collapsed": false
   },
   "id": "e2aa9d1998b053bc"
  },
  {
   "cell_type": "code",
   "execution_count": null,
   "outputs": [],
   "source": [
    "model.eval()\n",
    "with torch.no_grad():\n",
    "    outputs = model(test_inputs, token_type_ids=None, \n",
    "                        attention_mask=test_masks)\n",
    "\n",
    "    logits = outputs[0]\n",
    "\n",
    "    pred = np.argmax(logits, axis=1)"
   ],
   "metadata": {
    "collapsed": false
   },
   "id": "5e1b0223d4f29803"
  },
  {
   "cell_type": "code",
   "execution_count": null,
   "outputs": [],
   "source": [
    "# Prediction on test set\n",
    "\n",
    "print('Predicting labels for {:,} test sentences...'.format(len(test_inputs)))\n",
    "\n",
    "model.eval()\n",
    "\n",
    "predictions , true_labels = [], []\n",
    "\n",
    "# Predict \n",
    "idx = 0\n",
    "correct = 0\n",
    "for batch in test_dataloader:\n",
    "    \n",
    "    print(\"Batch {}\".format(idx + 1))\n",
    "    idx += 1\n",
    "    \n",
    "    # Add batch to device\n",
    "    batch = tuple(t.to(device) for t in batch)\n",
    "  \n",
    "    # Unpack the inputs from our dataloader\n",
    "    b_input_ids, b_input_mask, b_labels = batch\n",
    "  \n",
    "    # Telling the model not to compute or store gradients, saving memory and \n",
    "    # speeding up prediction\n",
    "    with torch.no_grad():\n",
    "        # Forward pass, calculate logit predictions\n",
    "        outputs = model(b_input_ids, token_type_ids=None, \n",
    "                        attention_mask=b_input_mask)\n",
    "\n",
    "    # Get the prediction probability\n",
    "    logits = outputs[0]\n",
    "    \n",
    "    # Get the prediction label\n",
    "    pred = np.argmax(logits, axis=1)\n",
    "   \n",
    "    # Get the total correct number between pred and true labels in each batch\n",
    "    correct += (pred == b_labels).sum().item()\n",
    "    print(\"correct = {}\\n\".format(correct))"
   ],
   "metadata": {
    "collapsed": false
   },
   "id": "b9f53c80b8be2672"
  },
  {
   "cell_type": "code",
   "execution_count": null,
   "outputs": [],
   "source": [
    "MODEL_NAME = \"BERT\"\n",
    "\n",
    "with open(\"{}.csv\".format(MODEL_NAME), \"w\") as f:\n",
    "    f.write(\"id,label\\n\")\n",
    "    for i,l in enumerate(pred):\n",
    "        f.write(str(i)+\",\"+str(l) +\"\\n\")\n",
    "    f.close()"
   ],
   "metadata": {
    "collapsed": false
   },
   "id": "5ecb98dbeb23968f"
  },
  {
   "cell_type": "code",
   "execution_count": null,
   "outputs": [],
   "source": [
    "df = pd.read_csv('BERT.csv')\n",
    "# Convert tensor objects to integers\n",
    "df['label'] = df['label'].apply(lambda x: int(x.split('(')[1].split(')')[0]))\n",
    "# Saving the modified data back to a CSV file\n",
    "df.to_csv('BERT.csv', index=False)"
   ],
   "metadata": {
    "collapsed": false
   },
   "id": "e1c565c53f1a567c"
  }
 ],
 "metadata": {
  "kernelspec": {
   "display_name": "Python 3",
   "language": "python",
   "name": "python3"
  },
  "language_info": {
   "codemirror_mode": {
    "name": "ipython",
    "version": 2
   },
   "file_extension": ".py",
   "mimetype": "text/x-python",
   "name": "python",
   "nbconvert_exporter": "python",
   "pygments_lexer": "ipython2",
   "version": "2.7.6"
  }
 },
 "nbformat": 4,
 "nbformat_minor": 5
}
